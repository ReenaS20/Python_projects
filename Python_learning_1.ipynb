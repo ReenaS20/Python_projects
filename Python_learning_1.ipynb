{
 "cells": [
  {
   "cell_type": "code",
   "execution_count": 1,
   "metadata": {},
   "outputs": [
    {
     "name": "stdout",
     "output_type": "stream",
     "text": [
      "What is your nameAniket\n",
      "Hello   Aniket\n"
     ]
    }
   ],
   "source": [
    "#this is my note \n",
    "print (\"Hello   \" + input(\"What is your name\" ))"
   ]
  },
  {
   "cell_type": "code",
   "execution_count": 4,
   "metadata": {
    "scrolled": false
   },
   "outputs": [
    {
     "name": "stdout",
     "output_type": "stream",
     "text": [
      "What is your name: Soham\n",
      "Count of characters in your name is 5\n"
     ]
    }
   ],
   "source": [
    "print (\"Count of characters in your name is \" + str (len(input(\"What is your name: \"))))"
   ]
  },
  {
   "cell_type": "code",
   "execution_count": 3,
   "metadata": {},
   "outputs": [
    {
     "name": "stdout",
     "output_type": "stream",
     "text": [
      "Hello World\n",
      "['False', 'None', 'True', 'and', 'as', 'assert', 'async', 'await', 'break', 'class', 'continue', 'def', 'del', 'elif', 'else', 'except', 'finally', 'for', 'from', 'global', 'if', 'import', 'in', 'is', 'lambda', 'nonlocal', 'not', 'or', 'pass', 'raise', 'return', 'try', 'while', 'with', 'yield']\n"
     ]
    }
   ],
   "source": [
    "\n",
    "#List keywords in python\n",
    "\n",
    "import keyword \n",
    "print (\"Hello World\")\n",
    "print (keyword.kwlist)\n"
   ]
  },
  {
   "cell_type": "code",
   "execution_count": 6,
   "metadata": {},
   "outputs": [
    {
     "name": "stdout",
     "output_type": "stream",
     "text": [
      "Band Name generator......\n",
      "What is your name  :Aniket\n",
      "What is your city name  :Pune\n",
      "Band name is :AniPunPune\n"
     ]
    }
   ],
   "source": [
    "#Project 1 : Band Name Generator\n",
    "#This is to generate string name for band\n",
    "#Input city name \n",
    "#Your name \n",
    "#Combine them to form band name\n",
    "\n",
    "print (\"Band Name generator......\")\n",
    "name = input ('What is your name  :')\n",
    "city = input ('What is your city name  :')\n",
    "band_name= name[0:3] + city [0:3] + city [-5:]\n",
    "print(\"Band name is :\" + band_name)"
   ]
  },
  {
   "cell_type": "code",
   "execution_count": 8,
   "metadata": {},
   "outputs": [
    {
     "name": "stdout",
     "output_type": "stream",
     "text": [
      "Addition of digits\n",
      "Enter two digit number   :56\n",
      "Sum of digits  for number 56 is 11\n",
      "<class 'int'>\n",
      "True\n"
     ]
    }
   ],
   "source": [
    "#Project 2 : Addition of digits in number\n",
    "\n",
    "print(\"Addition of digits\")\n",
    "number = input (\"Enter two digit number   :\")\n",
    "digit1 = int(number[0])  \n",
    "digit2=int(number[1])\n",
    "total = digit1+digit2\n",
    "print (\"Sum of digits  for number \"+number + \" is \" + str(total))\n",
    "#Check type of variable\n",
    "print (type(digit1))\n",
    "#Check type of object\n",
    "print (isinstance(digit1,int ))"
   ]
  },
  {
   "cell_type": "code",
   "execution_count": 13,
   "metadata": {},
   "outputs": [
    {
     "name": "stdout",
     "output_type": "stream",
     "text": [
      "BMI calculator\n",
      "Enter your height in meters  :1.5\n",
      "Enter your weight in kg55\n",
      "Your BMI is  :24\n"
     ]
    }
   ],
   "source": [
    "#Project 3 : BMI Calculator\n",
    "print(\"BMI calculator\")\n",
    "height = float(input (\"Enter your height in meters  :\"))\n",
    "weight = float(input (\"Enter your weight in kg\"))\n",
    "BMI = (weight/height**2)\n",
    "\n",
    "print(\"Your BMI is  :\" + str(int(BMI)))\n",
    "\n"
   ]
  },
  {
   "cell_type": "code",
   "execution_count": 17,
   "metadata": {},
   "outputs": [
    {
     "name": "stdout",
     "output_type": "stream",
     "text": [
      "Your age left if you leave for 100 years\n",
      "Enter your age  12\n",
      "Number of days remainning 32120, Number of months remainnng 1056 , weeks remainning 4576\n"
     ]
    }
   ],
   "source": [
    "#f-string use\n",
    "#Project4: Calculate number of year left if you leave till age of 100 years\n",
    "print(\"Your age left if you leave for 100 years\")\n",
    "age = input  (\"Enter your age  \")\n",
    "diff  = 100- int(age)\n",
    "days= diff*\\\n",
    "        365\n",
    "months=diff*12\n",
    "weeks=diff*52\n",
    "print(f\"Number of days remainning {days}, Number of months remainnng {months} , weeks remainning {weeks}\")\n",
    "      \n"
   ]
  },
  {
   "cell_type": "code",
   "execution_count": 18,
   "metadata": {},
   "outputs": [
    {
     "name": "stdout",
     "output_type": "stream",
     "text": [
      "10.9 10.9\n",
      "4348883568\n",
      "4348883568\n"
     ]
    }
   ],
   "source": [
    "#PROJECT 5 \n",
    "digit1 =digit2 =  10.90\n",
    "print(digit1,digit2)\n",
    "#print address of variable \n",
    "#same address values for primitive datatype \n",
    "\n",
    "print (id(digit1) )\n",
    "print (id(digit2) )\n"
   ]
  },
  {
   "cell_type": "code",
   "execution_count": 26,
   "metadata": {},
   "outputs": [
    {
     "name": "stdout",
     "output_type": "stream",
     "text": [
      "{10: 'This is 10', 20: 'This is 20', 30: 'This is 30'}\n",
      "{10: 'This is 10', 20: 'This is 20', 30: 40}\n",
      "{10: 'This is 10', 30: 40}\n"
     ]
    }
   ],
   "source": [
    "#Advanced data type \n",
    "#set   ---defines using {} --unordered collection ,contains unique values  , cannot be printed\n",
    "#tuple  ---defines using () --write once and data cannot be modified\n",
    "#list ---defined using[]  --dynamic modifiable \n",
    "\n",
    "myList = [10,\"This is new List\", 40 , 89.01]\n",
    "\n",
    "mySet = {10, \"This is new set\", 90, 80,80,70}\n",
    "myTuple=(10, 20, 30 , 40 ,50)\n",
    "myTuple=(10, 30, 30 , 40 ,100)\n",
    "\n",
    "myList[2] = 100\n",
    "\n",
    "## cannot modify tuple myTuple[2]=60\n",
    "\n",
    "#print (myList)\n",
    "#print (mySet)\n",
    "#print (myTuple)\n",
    "\n",
    "myList.pop(0)\n",
    "#print (myList)\n",
    "\n",
    "myList.remove(89.01)\n",
    "#print (myList)\n",
    "\n",
    "myDict = {10:\"This is 10\", 20:\"This is 20\", 30:\"This is 30\"}\n",
    "print(myDict)\n",
    "\n",
    "myDict[30] = 40\n",
    "print(myDict)\n",
    "\n",
    "del myDict[20]\n",
    "print(myDict)\n",
    "\n"
   ]
  },
  {
   "cell_type": "code",
   "execution_count": 36,
   "metadata": {},
   "outputs": [
    {
     "name": "stdout",
     "output_type": "stream",
     "text": [
      "[10, 20, 30, 40, 60, 60, 40]\n",
      "{40, 10, 20, 60, 30}\n",
      "{100, 10, 90, 60, 30}\n",
      "[100, 10, 90, 60, 30]\n",
      "Reena Aniket Gaiwkad\n",
      "['R', 'e', 'e', 'n', 'a', ' ', 'A', 'n', 'i', 'k', 'e', 't', ' ', 'G', 'a', 'i', 'w', 'k', 'a', 'd']\n"
     ]
    }
   ],
   "source": [
    "#Conversion of data type\n",
    "NewList = [10,20,30,40,60,60,40]\n",
    "print(NewList)\n",
    "\n",
    "NewSet= set(NewList)\n",
    "print(NewSet)\n",
    "\n",
    "AgeSet = {10,30,60,90,100}\n",
    "print(AgeSet)\n",
    "AgeList= list(AgeSet)\n",
    "print(AgeList)\n",
    "\n",
    "\n",
    "myName=\"Reena Aniket Gaiwkad\"\n",
    "print (myName)\n",
    "nameList=list(myName)\n",
    "print(nameList)"
   ]
  },
  {
   "cell_type": "code",
   "execution_count": 44,
   "metadata": {},
   "outputs": [
    {
     "name": "stdout",
     "output_type": "stream",
     "text": [
      "Check your number is odd or even\n",
      "Input your number :67\n"
     ]
    }
   ],
   "source": [
    "#odd Even numbers\n",
    "#Learning if else statements \n",
    "print(\"Check your number is odd or even\")\n",
    "value = int(input(\"Input your number :\"))\n",
    "if value % 2 == 0:\n",
    "       print (f\"Number entered {value} is even.\")\n",
    "else :\n",
    "        print (f\"Number entered {value} is odd.\")\n",
    "    \n",
    "    "
   ]
  },
  {
   "cell_type": "code",
   "execution_count": 45,
   "metadata": {},
   "outputs": [
    {
     "name": "stdout",
     "output_type": "stream",
     "text": [
      "Check if the year is Leap year\n",
      "Please enter year2001\n",
      "Not a leap year\n",
      "You are out of if else block\n"
     ]
    }
   ],
   "source": [
    "#Leap even calculation\n",
    "#Nested elif statments\n",
    "print(\"Check if the year is Leap year\")\n",
    "year = int(input(\"Please enter year\"))\n",
    "if year % 4 == 0:\n",
    "    if  year % 100 ==0:\n",
    "        if year % 400 == 0:\n",
    "            print(\"Leap Year\")\n",
    "        else:\n",
    "            print(\"Not Leap Year\")\n",
    "    else:\n",
    "        print(\"Leap Year\")\n",
    "else:\n",
    "    print (\"Not a leap year\")\n",
    "  \n",
    "    \n",
    "print (\"You are out of if else block\")\n",
    "     \n"
   ]
  },
  {
   "cell_type": "code",
   "execution_count": null,
   "metadata": {},
   "outputs": [],
   "source": [
    "print();\n",
    "\n",
    "\n",
    "\n"
   ]
  },
  {
   "cell_type": "code",
   "execution_count": null,
   "metadata": {},
   "outputs": [],
   "source": []
  },
  {
   "cell_type": "code",
   "execution_count": null,
   "metadata": {},
   "outputs": [],
   "source": []
  }
 ],
 "metadata": {
  "kernelspec": {
   "display_name": "Python 3",
   "language": "python",
   "name": "python3"
  },
  "language_info": {
   "codemirror_mode": {
    "name": "ipython",
    "version": 3
   },
   "file_extension": ".py",
   "mimetype": "text/x-python",
   "name": "python",
   "nbconvert_exporter": "python",
   "pygments_lexer": "ipython3",
   "version": "3.8.3"
  }
 },
 "nbformat": 4,
 "nbformat_minor": 4
}
